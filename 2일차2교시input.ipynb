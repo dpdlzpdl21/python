{
  "nbformat": 4,
  "nbformat_minor": 0,
  "metadata": {
    "colab": {
      "name": "2일차2교시input.ipynb",
      "provenance": [],
      "collapsed_sections": [],
      "authorship_tag": "ABX9TyNx540ZNkrYt0c7oXbYfKXF",
      "include_colab_link": true
    },
    "kernelspec": {
      "name": "python3",
      "display_name": "Python 3"
    }
  },
  "cells": [
    {
      "cell_type": "markdown",
      "metadata": {
        "id": "view-in-github",
        "colab_type": "text"
      },
      "source": [
        "<a href=\"https://colab.research.google.com/github/dpdlzpdl21/python/blob/master/2%EC%9D%BC%EC%B0%A82%EA%B5%90%EC%8B%9Cinput.ipynb\" target=\"_parent\"><img src=\"https://colab.research.google.com/assets/colab-badge.svg\" alt=\"Open In Colab\"/></a>"
      ]
    },
    {
      "cell_type": "code",
      "metadata": {
        "id": "FV5MR2uvD0-g",
        "colab_type": "code",
        "colab": {
          "base_uri": "https://localhost:8080/",
          "height": 53
        },
        "outputId": "7c62484e-13c9-4dc9-e400-6d70e75449eb"
      },
      "source": [
        "a= input('당신의 이름을 입력하시오 >>>')\n",
        "a"
      ],
      "execution_count": 2,
      "outputs": [
        {
          "output_type": "stream",
          "text": [
            "당신의 이름을 입력하시오 >>>인천정보\n"
          ],
          "name": "stdout"
        },
        {
          "output_type": "execute_result",
          "data": {
            "text/plain": [
              "'인천정보'"
            ]
          },
          "metadata": {
            "tags": []
          },
          "execution_count": 2
        }
      ]
    },
    {
      "cell_type": "code",
      "metadata": {
        "id": "XMsUS8LyEQBh",
        "colab_type": "code",
        "colab": {
          "base_uri": "https://localhost:8080/",
          "height": 53
        },
        "outputId": "2fc28ce4-af0a-439f-fb51-def84b67b43f"
      },
      "source": [
        "b= input('당신의 나이 >>>')\n",
        "b"
      ],
      "execution_count": 4,
      "outputs": [
        {
          "output_type": "stream",
          "text": [
            "당신의 나이 >>>19\n"
          ],
          "name": "stdout"
        },
        {
          "output_type": "execute_result",
          "data": {
            "text/plain": [
              "'19'"
            ]
          },
          "metadata": {
            "tags": []
          },
          "execution_count": 4
        }
      ]
    },
    {
      "cell_type": "code",
      "metadata": {
        "id": "EwlVnpVaEsL_",
        "colab_type": "code",
        "colab": {
          "base_uri": "https://localhost:8080/",
          "height": 35
        },
        "outputId": "971939e2-0d8f-4fb6-cda6-11dcdb2698f6"
      },
      "source": [
        "type(b)"
      ],
      "execution_count": 6,
      "outputs": [
        {
          "output_type": "execute_result",
          "data": {
            "text/plain": [
              "str"
            ]
          },
          "metadata": {
            "tags": []
          },
          "execution_count": 6
        }
      ]
    },
    {
      "cell_type": "code",
      "metadata": {
        "id": "wd2sWUfOE3PA",
        "colab_type": "code",
        "colab": {
          "base_uri": "https://localhost:8080/",
          "height": 35
        },
        "outputId": "be16a308-5114-47f4-e39a-595cacfdf5a4"
      },
      "source": [
        "c= int(b)\n",
        "c, type(c)"
      ],
      "execution_count": 9,
      "outputs": [
        {
          "output_type": "execute_result",
          "data": {
            "text/plain": [
              "(19, int)"
            ]
          },
          "metadata": {
            "tags": []
          },
          "execution_count": 9
        }
      ]
    },
    {
      "cell_type": "code",
      "metadata": {
        "id": "J_pQe4cXFR8f",
        "colab_type": "code",
        "colab": {
          "base_uri": "https://localhost:8080/",
          "height": 71
        },
        "outputId": "28724260-1ef1-4148-cc91-94cd4e243b8e"
      },
      "source": [
        "year = int(input('출생년도를 입력>>>'))\n",
        "print('당신은',year,'년에 태어났군요')\n",
        "age= 2020-year+1\n",
        "print('당신의 나이는',age,'세 입니다.')"
      ],
      "execution_count": 11,
      "outputs": [
        {
          "output_type": "stream",
          "text": [
            "출생년도를 입력>>>2002\n",
            "당신은 2002 년에 태어났군요\n",
            "당신의 나이는 19 세 입니다.\n"
          ],
          "name": "stdout"
        }
      ]
    },
    {
      "cell_type": "markdown",
      "metadata": {
        "id": "C_sauiX_HEZ8",
        "colab_type": "text"
      },
      "source": [
        "Format\n"
      ]
    },
    {
      "cell_type": "code",
      "metadata": {
        "id": "Qy7C-JnKG_kQ",
        "colab_type": "code",
        "colab": {
          "base_uri": "https://localhost:8080/",
          "height": 35
        },
        "outputId": "3da7eab7-f99f-4d57-e879-8c04e3507b90"
      },
      "source": [
        "s='a is{}'\n",
        "s.format('apple')\n"
      ],
      "execution_count": 13,
      "outputs": [
        {
          "output_type": "execute_result",
          "data": {
            "text/plain": [
              "'a isapple'"
            ]
          },
          "metadata": {
            "tags": []
          },
          "execution_count": 13
        }
      ]
    },
    {
      "cell_type": "code",
      "metadata": {
        "id": "i1BnykX2HfDJ",
        "colab_type": "code",
        "colab": {
          "base_uri": "https://localhost:8080/",
          "height": 53
        },
        "outputId": "fc4db528-793a-4bd8-ef92-e8b87dba0ac4"
      },
      "source": [
        "a='%s %d 개 가격은 %.2f 달라'\n",
        "b= a %('햄버거', 2,4.0*2)\n",
        "print(a)\n",
        "print(b)"
      ],
      "execution_count": 15,
      "outputs": [
        {
          "output_type": "stream",
          "text": [
            "%s %d 개 가격은 %.2f 달라\n",
            "햄버거 2 개 가격은 8.00 달라\n"
          ],
          "name": "stdout"
        }
      ]
    },
    {
      "cell_type": "code",
      "metadata": {
        "id": "2csqVdx3INPu",
        "colab_type": "code",
        "colab": {}
      },
      "source": [
        "#치킨 2마리 가격은 40000원"
      ],
      "execution_count": 0,
      "outputs": []
    }
  ]
}