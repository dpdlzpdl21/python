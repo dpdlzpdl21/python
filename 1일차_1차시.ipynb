{
  "nbformat": 4,
  "nbformat_minor": 0,
  "metadata": {
    "colab": {
      "name": "1일차_1차시.ipynb",
      "provenance": [],
      "collapsed_sections": [],
      "authorship_tag": "ABX9TyP66vDOn8jpnyPIoeV74qOX",
      "include_colab_link": true
    },
    "kernelspec": {
      "name": "python3",
      "display_name": "Python 3"
    }
  },
  "cells": [
    {
      "cell_type": "markdown",
      "metadata": {
        "id": "view-in-github",
        "colab_type": "text"
      },
      "source": [
        "<a href=\"https://colab.research.google.com/github/dpdlzpdl21/python/blob/master/1%EC%9D%BC%EC%B0%A8_1%EC%B0%A8%EC%8B%9C.ipynb\" target=\"_parent\"><img src=\"https://colab.research.google.com/assets/colab-badge.svg\" alt=\"Open In Colab\"/></a>"
      ]
    },
    {
      "cell_type": "code",
      "metadata": {
        "id": "GezgrUcY5g0y",
        "colab_type": "code",
        "outputId": "d12bd270-4d65-4018-fb48-c44b3dc10897",
        "colab": {
          "base_uri": "https://localhost:8080/",
          "height": 35
        }
      },
      "source": [
        "    a=3\n",
        "    b=2\n",
        "    print('a + b =',a+b)\n",
        " # 주석 주석 "
      ],
      "execution_count": 0,
      "outputs": [
        {
          "output_type": "stream",
          "text": [
            "a + b = 5\n"
          ],
          "name": "stdout"
        }
      ]
    },
    {
      "cell_type": "code",
      "metadata": {
        "id": "2hovDPag5pJB",
        "colab_type": "code",
        "colab": {
          "base_uri": "https://localhost:8080/",
          "height": 149
        },
        "outputId": "b2d24e7d-b453-4fba-8bb8-b8bacf370f4c"
      },
      "source": [
        "a=3\n",
        "b=2\n",
        "print('a + b=',a+b)\n",
        "print('a- b=', a-b)\n",
        "print ('a ** b=',a**b)\n",
        "print('a //b=',a//b)\n",
        "print('a%b=',a%b)\n",
        "print('a*b =',a*b)\n",
        "print('a/b =',a/b)"
      ],
      "execution_count": 5,
      "outputs": [
        {
          "output_type": "stream",
          "text": [
            "a + b= 5\n",
            "a- b= 1\n",
            "a ** b= 9\n",
            "a //b= 1\n",
            "a%b= 1\n",
            "a*b = 6\n",
            "a/b = 1.5\n"
          ],
          "name": "stdout"
        }
      ]
    },
    {
      "cell_type": "code",
      "metadata": {
        "id": "SjiRDecj5hc1",
        "colab_type": "code",
        "colab": {}
      },
      "source": [
        ""
      ],
      "execution_count": 0,
      "outputs": []
    }
  ]
}