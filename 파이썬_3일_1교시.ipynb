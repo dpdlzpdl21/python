{
  "nbformat": 4,
  "nbformat_minor": 0,
  "metadata": {
    "colab": {
      "name": "파이썬 3일 1교시.ipynb",
      "provenance": [],
      "collapsed_sections": [],
      "authorship_tag": "ABX9TyPchizC6xTYSOm4ZwRc2Ffv",
      "include_colab_link": true
    },
    "kernelspec": {
      "name": "python3",
      "display_name": "Python 3"
    }
  },
  "cells": [
    {
      "cell_type": "markdown",
      "metadata": {
        "id": "view-in-github",
        "colab_type": "text"
      },
      "source": [
        "<a href=\"https://colab.research.google.com/github/dpdlzpdl21/python/blob/master/%ED%8C%8C%EC%9D%B4%EC%8D%AC_3%EC%9D%BC_1%EA%B5%90%EC%8B%9C.ipynb\" target=\"_parent\"><img src=\"https://colab.research.google.com/assets/colab-badge.svg\" alt=\"Open In Colab\"/></a>"
      ]
    },
    {
      "cell_type": "markdown",
      "metadata": {
        "id": "ReoQmHth8ATQ",
        "colab_type": "text"
      },
      "source": [
        "**Data Typa**"
      ]
    },
    {
      "cell_type": "code",
      "metadata": {
        "id": "ZW7LDBS345Cz",
        "colab_type": "code",
        "colab": {}
      },
      "source": [
        "dic = {'멋쟁이':'홍석찬','핵인싸':'최경민',3:30221}"
      ],
      "execution_count": 0,
      "outputs": []
    },
    {
      "cell_type": "code",
      "metadata": {
        "id": "GN8Fqv5j47o2",
        "colab_type": "code",
        "colab": {
          "base_uri": "https://localhost:8080/",
          "height": 35
        },
        "outputId": "342782ca-dc6e-4e3d-88f3-fb90433e110e"
      },
      "source": [
        "dic['멋쟁이'],dic['핵인싸'],dic[3]"
      ],
      "execution_count": 46,
      "outputs": [
        {
          "output_type": "execute_result",
          "data": {
            "text/plain": [
              "('홍석찬', '최경민', 30221)"
            ]
          },
          "metadata": {
            "tags": []
          },
          "execution_count": 46
        }
      ]
    },
    {
      "cell_type": "code",
      "metadata": {
        "id": "7iAf-ruO7Xgz",
        "colab_type": "code",
        "outputId": "2cdedf51-f006-4fc9-fa9f-c2d0cfe3d8a8",
        "colab": {
          "base_uri": "https://localhost:8080/",
          "height": 35
        }
      },
      "source": [
        "dic.get('멋쟁이')"
      ],
      "execution_count": 45,
      "outputs": [
        {
          "output_type": "execute_result",
          "data": {
            "text/plain": [
              "'홍석찬'"
            ]
          },
          "metadata": {
            "tags": []
          },
          "execution_count": 45
        }
      ]
    },
    {
      "cell_type": "code",
      "metadata": {
        "id": "K79kYORw7lzq",
        "colab_type": "code",
        "outputId": "7ed9cb70-3c0a-4b2c-bd60-dbb076d7f070",
        "colab": {
          "base_uri": "https://localhost:8080/",
          "height": 35
        }
      },
      "source": [
        "dic.values()"
      ],
      "execution_count": 44,
      "outputs": [
        {
          "output_type": "execute_result",
          "data": {
            "text/plain": [
              "dict_values(['홍석찬', '최경민', 30221])"
            ]
          },
          "metadata": {
            "tags": []
          },
          "execution_count": 44
        }
      ]
    },
    {
      "cell_type": "code",
      "metadata": {
        "id": "4u3mERK87oo0",
        "colab_type": "code",
        "outputId": "4616b168-6f17-468f-c0bc-7ef210ed36ce",
        "colab": {
          "base_uri": "https://localhost:8080/",
          "height": 35
        }
      },
      "source": [
        "dic.items()"
      ],
      "execution_count": 49,
      "outputs": [
        {
          "output_type": "execute_result",
          "data": {
            "text/plain": [
              "dict_items([('멋쟁이', '홍석찬'), ('핵인싸', '최경민'), (3, 30221)])"
            ]
          },
          "metadata": {
            "tags": []
          },
          "execution_count": 49
        }
      ]
    },
    {
      "cell_type": "code",
      "metadata": {
        "id": "W-GJUJGu7rI1",
        "colab_type": "code",
        "colab": {
          "base_uri": "https://localhost:8080/",
          "height": 35
        },
        "outputId": "33d223ce-8761-4578-d6f5-12f0ff6399e9"
      },
      "source": [
        "dic.keys()"
      ],
      "execution_count": 50,
      "outputs": [
        {
          "output_type": "execute_result",
          "data": {
            "text/plain": [
              "dict_keys(['멋쟁이', '핵인싸', 3])"
            ]
          },
          "metadata": {
            "tags": []
          },
          "execution_count": 50
        }
      ]
    },
    {
      "cell_type": "code",
      "metadata": {
        "id": "fQXFGHdL6HNg",
        "colab_type": "code",
        "outputId": "c1580129-80be-4ec1-9ef8-3c0334b7c43d",
        "colab": {
          "base_uri": "https://localhost:8080/",
          "height": 35
        }
      },
      "source": [
        "a= '인천정보산업고등학교'\n",
        "type(a)"
      ],
      "execution_count": 52,
      "outputs": [
        {
          "output_type": "execute_result",
          "data": {
            "text/plain": [
              "str"
            ]
          },
          "metadata": {
            "tags": []
          },
          "execution_count": 52
        }
      ]
    },
    {
      "cell_type": "code",
      "metadata": {
        "id": "s5JrwNZ56KrQ",
        "colab_type": "code",
        "outputId": "b1f2eb5e-ba8d-46bb-fa1f-dd8b10d33b11",
        "colab": {
          "base_uri": "https://localhost:8080/",
          "height": 35
        }
      },
      "source": [
        "type(dic)"
      ],
      "execution_count": 54,
      "outputs": [
        {
          "output_type": "execute_result",
          "data": {
            "text/plain": [
              "dict"
            ]
          },
          "metadata": {
            "tags": []
          },
          "execution_count": 54
        }
      ]
    },
    {
      "cell_type": "code",
      "metadata": {
        "id": "3yNAQ4lT6Sck",
        "colab_type": "code",
        "outputId": "dc1e42d5-f1be-4d00-dfae-18de6dbd0aa7",
        "colab": {
          "base_uri": "https://localhost:8080/",
          "height": 36
        }
      },
      "source": [
        "b=[1,2,3,4,5]\n",
        "type(b)\n",
        "b[0]=8\n",
        "b"
      ],
      "execution_count": 0,
      "outputs": [
        {
          "output_type": "execute_result",
          "data": {
            "text/plain": [
              "[8, 2, 3, 4, 5]"
            ]
          },
          "metadata": {
            "tags": []
          },
          "execution_count": 18
        }
      ]
    },
    {
      "cell_type": "code",
      "metadata": {
        "id": "ytR9iYhA6owg",
        "colab_type": "code",
        "outputId": "0883f68e-2922-4927-a355-e711a0b11d85",
        "colab": {
          "base_uri": "https://localhost:8080/",
          "height": 36
        }
      },
      "source": [
        "c=1,2,3,4,5\n",
        "type(c)\n",
        "b[0]=8\n",
        "c"
      ],
      "execution_count": 0,
      "outputs": [
        {
          "output_type": "execute_result",
          "data": {
            "text/plain": [
              "(1, 2, 3, 4, 5)"
            ]
          },
          "metadata": {
            "tags": []
          },
          "execution_count": 22
        }
      ]
    },
    {
      "cell_type": "markdown",
      "metadata": {
        "id": "3xo5WFV08Pkk",
        "colab_type": "text"
      },
      "source": [
        "[문제풀이]\n"
      ]
    },
    {
      "cell_type": "markdown",
      "metadata": {
        "id": "s1VinP829B11",
        "colab_type": "text"
      },
      "source": [
        "**[문제1]**\n",
        "'*'문자를 100번 출력하시오."
      ]
    },
    {
      "cell_type": "code",
      "metadata": {
        "id": "kw8ZVh4Q9I-7",
        "colab_type": "code",
        "outputId": "1bc156b8-f3fe-4906-db53-ea87ac83bda8",
        "colab": {
          "base_uri": "https://localhost:8080/",
          "height": 36
        }
      },
      "source": [
        "print('*'*100)"
      ],
      "execution_count": 0,
      "outputs": [
        {
          "output_type": "stream",
          "text": [
            "****************************************************************************************************\n"
          ],
          "name": "stdout"
        }
      ]
    },
    {
      "cell_type": "markdown",
      "metadata": {
        "id": "L-qJXi9L8Xt1",
        "colab_type": "text"
      },
      "source": [
        "[문제2] input() 내장 함수를 이용하여 id에 입력을 받기"
      ]
    },
    {
      "cell_type": "code",
      "metadata": {
        "id": "BWQ_wq3x86-6",
        "colab_type": "code",
        "outputId": "2742cc8b-c5f8-4e9a-f0c8-0ea1d51771d0",
        "colab": {
          "base_uri": "https://localhost:8080/",
          "height": 74
        }
      },
      "source": [
        "id = input('id를 입력 >>> ')\n",
        "print(id+ '님 ! 안녕하세요')\n",
        "print(id, '님 ! 안녕하세요')"
      ],
      "execution_count": 0,
      "outputs": [
        {
          "output_type": "stream",
          "text": [
            "id를 입력 >>> berry\n",
            "berry님 ! 안녕하세요\n",
            "berry 님 ! 안녕하세요\n"
          ],
          "name": "stdout"
        }
      ]
    },
    {
      "cell_type": "code",
      "metadata": {
        "id": "9YZ8hCpT-Cso",
        "colab_type": "code",
        "outputId": "11812116-95bc-4171-aff3-cad8e088650c",
        "colab": {
          "base_uri": "https://localhost:8080/",
          "height": 36
        }
      },
      "source": [
        "type(id)"
      ],
      "execution_count": 0,
      "outputs": [
        {
          "output_type": "execute_result",
          "data": {
            "text/plain": [
              "str"
            ]
          },
          "metadata": {
            "tags": []
          },
          "execution_count": 37
        }
      ]
    },
    {
      "cell_type": "markdown",
      "metadata": {
        "id": "Az0apxy8--mY",
        "colab_type": "text"
      },
      "source": [
        "문제4의 "
      ]
    },
    {
      "cell_type": "code",
      "metadata": {
        "id": "AoKc12WK-lcs",
        "colab_type": "code",
        "outputId": "1eeaa780-4bc6-4252-8d4b-23537ee2d225",
        "colab": {
          "base_uri": "https://localhost:8080/",
          "height": 72
        }
      },
      "source": [
        "birth = input('태어난 년도는??>>>')\n",
        "print('당신은'+birth+'년에 태어나셨습니다.')\n",
        "rebirth = int(birth)+60\n",
        "print('당신의 환갑잔치는'+str(rebirth)+ '년에 하게 됩니다.')"
      ],
      "execution_count": 55,
      "outputs": [
        {
          "output_type": "stream",
          "text": [
            "태어난 년도는??>>>2002\n",
            "당신은2002년에 태어나셨습니다.\n",
            "당신의 환갑잔치는2062년에 하게 됩니다.\n"
          ],
          "name": "stdout"
        }
      ]
    }
  ]
}