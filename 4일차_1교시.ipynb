{
  "nbformat": 4,
  "nbformat_minor": 0,
  "metadata": {
    "colab": {
      "name": "4일차_1교시.ipynb",
      "provenance": [],
      "collapsed_sections": [],
      "authorship_tag": "ABX9TyP3khfAfW0iUVfk596Xv6TI",
      "include_colab_link": true
    },
    "kernelspec": {
      "name": "python3",
      "display_name": "Python 3"
    }
  },
  "cells": [
    {
      "cell_type": "markdown",
      "metadata": {
        "id": "view-in-github",
        "colab_type": "text"
      },
      "source": [
        "<a href=\"https://colab.research.google.com/github/dpdlzpdl21/python/blob/master/4%EC%9D%BC%EC%B0%A8_1%EA%B5%90%EC%8B%9C.ipynb\" target=\"_parent\"><img src=\"https://colab.research.google.com/assets/colab-badge.svg\" alt=\"Open In Colab\"/></a>"
      ]
    },
    {
      "cell_type": "code",
      "metadata": {
        "id": "NvxvoHvO7jAT",
        "colab_type": "code",
        "colab": {
          "base_uri": "https://localhost:8080/",
          "height": 36
        },
        "outputId": "2d55d0b9-2f18-4bcc-985b-0d17e6caf721"
      },
      "source": [
        "range(5)"
      ],
      "execution_count": 1,
      "outputs": [
        {
          "output_type": "execute_result",
          "data": {
            "text/plain": [
              "range(0, 5)"
            ]
          },
          "metadata": {
            "tags": []
          },
          "execution_count": 1
        }
      ]
    },
    {
      "cell_type": "code",
      "metadata": {
        "id": "Kv10HWmu8eWp",
        "colab_type": "code",
        "colab": {
          "base_uri": "https://localhost:8080/",
          "height": 36
        },
        "outputId": "db457c8d-1f6e-4d9f-8f65-caa4a943eb6a"
      },
      "source": [
        "a= list(range(10,0,-2))\n",
        "a"
      ],
      "execution_count": 4,
      "outputs": [
        {
          "output_type": "execute_result",
          "data": {
            "text/plain": [
              "[10, 8, 6, 4, 2]"
            ]
          },
          "metadata": {
            "tags": []
          },
          "execution_count": 4
        }
      ]
    },
    {
      "cell_type": "code",
      "metadata": {
        "id": "ye-LUBMF8ppU",
        "colab_type": "code",
        "colab": {
          "base_uri": "https://localhost:8080/",
          "height": 36
        },
        "outputId": "0c61cc8a-483f-4b46-f2e0-e0e49ce2413e"
      },
      "source": [
        "type(a)"
      ],
      "execution_count": 5,
      "outputs": [
        {
          "output_type": "execute_result",
          "data": {
            "text/plain": [
              "list"
            ]
          },
          "metadata": {
            "tags": []
          },
          "execution_count": 5
        }
      ]
    },
    {
      "cell_type": "code",
      "metadata": {
        "id": "8dpdQ4539NxP",
        "colab_type": "code",
        "colab": {
          "base_uri": "https://localhost:8080/",
          "height": 36
        },
        "outputId": "51ef2789-9791-42ff-a426-a6c655ae5894"
      },
      "source": [
        "for i in range(1,11) :\n",
        " print(i, end=' ')"
      ],
      "execution_count": 9,
      "outputs": [
        {
          "output_type": "stream",
          "text": [
            "1 2 3 4 5 6 7 8 9 10 "
          ],
          "name": "stdout"
        }
      ]
    },
    {
      "cell_type": "code",
      "metadata": {
        "id": "lGha2fas9jjO",
        "colab_type": "code",
        "colab": {
          "base_uri": "https://localhost:8080/",
          "height": 36
        },
        "outputId": "cbfde5da-76a1-43d7-efce-841114e54dda"
      },
      "source": [
        "# 준\n",
        "for i in range(10, -1, -2) :\n",
        "   print(i, end=' ')"
      ],
      "execution_count": 10,
      "outputs": [
        {
          "output_type": "stream",
          "text": [
            "10 8 6 4 2 0 "
          ],
          "name": "stdout"
        }
      ]
    },
    {
      "cell_type": "code",
      "metadata": {
        "id": "_JlO24NZ-UwC",
        "colab_type": "code",
        "colab": {
          "base_uri": "https://localhost:8080/",
          "height": 111
        },
        "outputId": "372ff24c-3d7b-45af-cc4e-8945d998bdde"
      },
      "source": [
        "a= [1.3, 2.1, 4.5, 5, 5.1]\n",
        "for i in range(len(a)) :\n",
        "   print(a[i])"
      ],
      "execution_count": 14,
      "outputs": [
        {
          "output_type": "stream",
          "text": [
            "1.3\n",
            "2.1\n",
            "4.5\n",
            "5\n",
            "5.1\n"
          ],
          "name": "stdout"
        }
      ]
    },
    {
      "cell_type": "code",
      "metadata": {
        "id": "KWiRAkgu-oO6",
        "colab_type": "code",
        "colab": {
          "base_uri": "https://localhost:8080/",
          "height": 36
        },
        "outputId": "72b6756c-d652-404a-888e-b3625b942094"
      },
      "source": [
        "a[0]"
      ],
      "execution_count": 12,
      "outputs": [
        {
          "output_type": "execute_result",
          "data": {
            "text/plain": [
              "1.3"
            ]
          },
          "metadata": {
            "tags": []
          },
          "execution_count": 12
        }
      ]
    },
    {
      "cell_type": "code",
      "metadata": {
        "id": "L75ulXcO-yUU",
        "colab_type": "code",
        "colab": {
          "base_uri": "https://localhost:8080/",
          "height": 206
        },
        "outputId": "65992f26-194d-427f-a0b0-c222ea85ff91"
      },
      "source": [
        "for i in range(1,11):\n",
        "   print('Hello Python', i)"
      ],
      "execution_count": 17,
      "outputs": [
        {
          "output_type": "stream",
          "text": [
            "Hello Python 1\n",
            "Hello Python 2\n",
            "Hello Python 3\n",
            "Hello Python 4\n",
            "Hello Python 5\n",
            "Hello Python 6\n",
            "Hello Python 7\n",
            "Hello Python 8\n",
            "Hello Python 9\n",
            "Hello Python 10\n"
          ],
          "name": "stdout"
        }
      ]
    },
    {
      "cell_type": "code",
      "metadata": {
        "id": "AwxcSwYhATLt",
        "colab_type": "code",
        "colab": {
          "base_uri": "https://localhost:8080/",
          "height": 55
        },
        "outputId": "c1db9966-c415-4551-e740-f42626ece10f"
      },
      "source": [
        "count=int(input('몇번 반복? >>> '))\n",
        "type(count)"
      ],
      "execution_count": 23,
      "outputs": [
        {
          "output_type": "stream",
          "text": [
            "몇번 반복? >>> 3\n"
          ],
          "name": "stdout"
        },
        {
          "output_type": "execute_result",
          "data": {
            "text/plain": [
              "int"
            ]
          },
          "metadata": {
            "tags": []
          },
          "execution_count": 23
        }
      ]
    },
    {
      "cell_type": "code",
      "metadata": {
        "id": "Mlgk5Z-XAdcW",
        "colab_type": "code",
        "colab": {
          "base_uri": "https://localhost:8080/",
          "height": 92
        },
        "outputId": "9e51ab7e-9741-4020-ebda-f3c2cc2d174a"
      },
      "source": [
        "a=int(input('몇번 반복? >>>'))\n",
        "for i in range(count):\n",
        "  print('좋아',i+1)"
      ],
      "execution_count": 28,
      "outputs": [
        {
          "output_type": "stream",
          "text": [
            "몇번 반복? >>>3\n",
            "좋아 1\n",
            "좋아 2\n",
            "좋아 3\n"
          ],
          "name": "stdout"
        }
      ]
    },
    {
      "cell_type": "code",
      "metadata": {
        "id": "6SqmthPKBhoA",
        "colab_type": "code",
        "colab": {
          "base_uri": "https://localhost:8080/",
          "height": 74
        },
        "outputId": "502eeae4-8da4-4d56-f1f8-912bac242355"
      },
      "source": [
        "a=list(map(int, (input('숫자 입력>>> ').split())))\n",
        "sum= 0\n",
        "for  i in range(len(a)) :\n",
        "   sum+=a[i]\n",
        "print('합계 :', sum)\n",
        "avg = sum/len(a)\n",
        "print('평균 :', avg)\n"
      ],
      "execution_count": 40,
      "outputs": [
        {
          "output_type": "stream",
          "text": [
            "숫자 입력>>> 2 3 4 5 6 7 8 9\n",
            "합계 : 44\n",
            "평균 : 5.5\n"
          ],
          "name": "stdout"
        }
      ]
    },
    {
      "cell_type": "markdown",
      "metadata": {
        "id": "zJRa5qU476pO",
        "colab_type": "text"
      },
      "source": [
        ""
      ]
    }
  ]
}